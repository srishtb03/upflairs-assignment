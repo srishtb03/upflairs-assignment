{
 "cells": [
  {
   "cell_type": "markdown",
   "metadata": {},
   "source": [
    "# day 12"
   ]
  },
  {
   "cell_type": "markdown",
   "metadata": {},
   "source": [
    "#### 1. Create a numpy array with filling random values, and shape of array should be (12,5), and pass this array from a user-defined function, and function should be able to return average, minimum, maximum, and no. of evens in your last row.\n"
   ]
  },
  {
   "cell_type": "code",
   "execution_count": 2,
   "metadata": {},
   "outputs": [
    {
     "name": "stdout",
     "output_type": "stream",
     "text": [
      "22\n",
      "52\n",
      "60\n",
      "6\n",
      "Average of the last row: 39.80\n",
      "Minimum of the last row: 6\n",
      "Maximum of the last row: 60\n",
      "Number of evens in the last row: 4\n"
     ]
    }
   ],
   "source": [
    "import numpy as np\n",
    "\n",
    "def func(a):\n",
    "    lr = a[-1]\n",
    "    average = np.mean(lr)\n",
    "    minimum = np.min(lr)\n",
    "    maximum = np.max(lr)\n",
    "    c=0\n",
    "    for i in lr:\n",
    "        if i%2==0:\n",
    "            c+=1\n",
    "            print(i)\n",
    "    num_evens = c#\n",
    "    return average, minimum, maximum, num_evens\n",
    "\n",
    "a = np.random.randint(1, 100, size=(12, 5))\n",
    "\n",
    "average, minimum, maximum, num_evens = func(a)\n",
    "\n",
    "print(f\"Average of the last row: {average:.2f}\")\n",
    "print(f\"Minimum of the last row: {minimum}\")\n",
    "print(f\"Maximum of the last row: {maximum}\")\n",
    "print(f\"Number of evens in the last row: {num_evens}\")\n"
   ]
  },
  {
   "cell_type": "markdown",
   "metadata": {},
   "source": [
    "#### 2. Let’s consider we have an array, e.g.And apply slicing techniques to get reversed order elements of all the rows\n"
   ]
  },
  {
   "cell_type": "code",
   "execution_count": 5,
   "metadata": {},
   "outputs": [
    {
     "data": {
      "text/plain": [
       "array([[1, 2, 3],\n",
       "       [4, 5, 6],\n",
       "       [7, 8, 9]])"
      ]
     },
     "execution_count": 5,
     "metadata": {},
     "output_type": "execute_result"
    }
   ],
   "source": [
    "a=np.array([[1,2,3],[4,5,6],[7,8,9]])\n",
    "a"
   ]
  },
  {
   "cell_type": "code",
   "execution_count": 14,
   "metadata": {},
   "outputs": [
    {
     "data": {
      "text/plain": [
       "array([[3, 2, 1],\n",
       "       [6, 5, 4],\n",
       "       [9, 8, 7]])"
      ]
     },
     "execution_count": 14,
     "metadata": {},
     "output_type": "execute_result"
    }
   ],
   "source": [
    "a[:,::-1]"
   ]
  },
  {
   "cell_type": "code",
   "execution_count": null,
   "metadata": {},
   "outputs": [],
   "source": []
  }
 ],
 "metadata": {
  "kernelspec": {
   "display_name": "base",
   "language": "python",
   "name": "python3"
  },
  "language_info": {
   "codemirror_mode": {
    "name": "ipython",
    "version": 3
   },
   "file_extension": ".py",
   "mimetype": "text/x-python",
   "name": "python",
   "nbconvert_exporter": "python",
   "pygments_lexer": "ipython3",
   "version": "3.9.7"
  }
 },
 "nbformat": 4,
 "nbformat_minor": 2
}
