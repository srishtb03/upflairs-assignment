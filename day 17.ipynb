{
 "cells": [
  {
   "cell_type": "markdown",
   "metadata": {},
   "source": [
    "# day 17"
   ]
  },
  {
   "cell_type": "markdown",
   "metadata": {},
   "source": [
    "#### 1. Write a program to find average of all the even numbers, and odd number that are present in the list. And also your program shold be return no. of evens and odd are present in this list List for your reference\n",
    "lst = [25,41,85,96,35,64,75,9,12,21,32,23,25,56]"
   ]
  },
  {
   "cell_type": "code",
   "execution_count": 1,
   "metadata": {},
   "outputs": [
    {
     "name": "stdout",
     "output_type": "stream",
     "text": [
      "Average of even numbers: 52.0\n",
      "Average of odd numbers: 37.666666666666664\n",
      "Even count: 5\n",
      "Odd count: 9\n"
     ]
    }
   ],
   "source": [
    "def find_even_odd_averages(numbers):\n",
    "  even_sum = 0\n",
    "  odd_sum = 0\n",
    "  even_count = 0\n",
    "  odd_count = 0\n",
    "  for num in numbers:\n",
    "    if num % 2 == 0:\n",
    "      even_sum += num\n",
    "      even_count += 1\n",
    "    else:\n",
    "      odd_sum += num\n",
    "      odd_count += 1\n",
    "\n",
    "  even_avg = even_sum / even_count if even_count > 0 else None\n",
    "  odd_avg = odd_sum / odd_count if odd_count > 0 else None\n",
    "\n",
    "  return even_avg, odd_avg, even_count, odd_count\n",
    "\n",
    "lst = [25, 41, 85, 96, 35, 64, 75, 9, 12, 21, 32, 23, 25, 56]\n",
    "\n",
    "even_avg, odd_avg, even_count, odd_count = find_even_odd_averages(lst)\n",
    "\n",
    "print(\"Average of even numbers:\", even_avg)\n",
    "print(\"Average of odd numbers:\", odd_avg)\n",
    "print(\"Even count:\", even_count)\n",
    "print(\"Odd count:\", odd_count)"
   ]
  },
  {
   "cell_type": "markdown",
   "metadata": {},
   "source": [
    "### 2. Write a program to find the target element from the list, with linear search and Binary Search.\n"
   ]
  },
  {
   "cell_type": "code",
   "execution_count": 4,
   "metadata": {},
   "outputs": [
    {
     "name": "stdout",
     "output_type": "stream",
     "text": [
      "Linear search result: 4\n",
      "Binary search result: 4\n"
     ]
    }
   ],
   "source": [
    "def linear_search(data, target):\n",
    "  \n",
    "  for i, element in enumerate(data):\n",
    "    if element == target:\n",
    "      return i\n",
    "  return -1\n",
    "\n",
    "def binary_search(data, target, low, high):\n",
    "\n",
    "  if low > high:\n",
    "    return -1\n",
    "\n",
    "  mid = (low + high) // 2\n",
    "\n",
    "  if data[mid] == target:\n",
    "    return mid\n",
    "  elif data[mid] < target:\n",
    "    return binary_search(data, target, mid + 1, high)\n",
    "  else:\n",
    "    return binary_search(data, target, low, mid - 1)\n",
    "\n",
    "\n",
    "data = [2, 5, 8, 12, 16, 23, 35]\n",
    "target = 16\n",
    "\n",
    "linear_search_result = linear_search(data, target)\n",
    "binary_search_result = binary_search(data.copy(), target, 0, len(data) - 1)  \n",
    "\n",
    "print(\"Linear search result:\", linear_search_result)\n",
    "print(\"Binary search result:\", binary_search_result)"
   ]
  },
  {
   "cell_type": "markdown",
   "metadata": {},
   "source": [
    "### 3. Learn about list comprehension and write a program to generate a list of square element from this given list and also try to filter all the even numbers from the given list using list comprehension.\n",
    "### lst = [25,41,85,96,35,64,75,9,12,21,32,23,25,56]"
   ]
  },
  {
   "cell_type": "code",
   "execution_count": 6,
   "metadata": {},
   "outputs": [
    {
     "name": "stdout",
     "output_type": "stream",
     "text": [
      "Squares: [625, 1681, 7225, 9216, 1225, 4096, 5625, 81, 144, 441, 1024, 529, 625, 3136]\n",
      "Even numbers: [96, 64, 12, 32, 56]\n"
     ]
    }
   ],
   "source": [
    "lst = [25, 41, 85, 96, 35, 64, 75, 9, 12, 21, 32, 23, 25, 56]\n",
    "\n",
    "squares = [num * num for num in lst]\n",
    "print(\"Squares:\", squares)\n",
    "\n",
    "even_numbers = [num for num in lst if num % 2 == 0]\n",
    "print(\"Even numbers:\", even_numbers)"
   ]
  }
 ],
 "metadata": {
  "kernelspec": {
   "display_name": "base",
   "language": "python",
   "name": "python3"
  },
  "language_info": {
   "codemirror_mode": {
    "name": "ipython",
    "version": 3
   },
   "file_extension": ".py",
   "mimetype": "text/x-python",
   "name": "python",
   "nbconvert_exporter": "python",
   "pygments_lexer": "ipython3",
   "version": "3.9.7"
  }
 },
 "nbformat": 4,
 "nbformat_minor": 2
}
