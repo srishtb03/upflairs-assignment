{
 "cells": [
  {
   "cell_type": "markdown",
   "metadata": {},
   "source": [
    "# day 8"
   ]
  },
  {
   "cell_type": "markdown",
   "metadata": {},
   "source": [
    "#### 1. Write a Python program to calculate the factorial of a non-negative integer entered by the user."
   ]
  },
  {
   "cell_type": "code",
   "execution_count": 16,
   "metadata": {},
   "outputs": [
    {
     "name": "stdout",
     "output_type": "stream",
     "text": [
      "362880\n"
     ]
    }
   ],
   "source": [
    "n=int(input(\"enter a number to find factorial\"))\n",
    "a=1\n",
    "if n==0:\n",
    "    print(a)\n",
    "elif n>0:\n",
    "    for i in range (1,n+1):\n",
    "        a = a*i\n",
    "    print(a)\n",
    "else:\n",
    "    print(\"enter a non negative number\")"
   ]
  },
  {
   "cell_type": "markdown",
   "metadata": {},
   "source": [
    "#### 3. Write a Python function to find the maximum and minimum numbers in a given list of numbers without using in built functions."
   ]
  },
  {
   "cell_type": "markdown",
   "metadata": {},
   "source": [
    "##### maximum"
   ]
  },
  {
   "cell_type": "code",
   "execution_count": 1,
   "metadata": {},
   "outputs": [
    {
     "name": "stdout",
     "output_type": "stream",
     "text": [
      "96\n"
     ]
    }
   ],
   "source": [
    "lst=[12,4,25,1,63,58,4,5,85,96,45,74,85,12]\n",
    "a=lst[0]\n",
    "for i in lst:\n",
    "    if i>a:\n",
    "        a=i\n",
    "print(a)"
   ]
  },
  {
   "cell_type": "markdown",
   "metadata": {},
   "source": [
    "##### minimun"
   ]
  },
  {
   "cell_type": "code",
   "execution_count": 2,
   "metadata": {},
   "outputs": [
    {
     "name": "stdout",
     "output_type": "stream",
     "text": [
      "-58\n"
     ]
    }
   ],
   "source": [
    "lst=[12,4,25,1,63,-58,4,5,85,96,45,74,85,12,0]\n",
    "a=lst[0]\n",
    "for i in lst:\n",
    "    if i<a:\n",
    "        a=i\n",
    "print(a)  "
   ]
  },
  {
   "cell_type": "markdown",
   "metadata": {},
   "source": [
    "#### 4. Write a Python program to find the longest word in a given list of words. If there are multiple words with the same length, return the first one encountered word.\n"
   ]
  },
  {
   "cell_type": "code",
   "execution_count": 35,
   "metadata": {},
   "outputs": [
    {
     "name": "stdout",
     "output_type": "stream",
     "text": [
      "srishti\n"
     ]
    }
   ],
   "source": [
    "lst=['hey','srishti','labdh','isha','shruti','ramesh']\n",
    "a=len(lst[0])\n",
    "for i in lst:\n",
    "    if a < len(i):\n",
    "        a=len(i)\n",
    "        b=i\n",
    "print(b)\n",
    "        \n",
    "      "
   ]
  }
 ],
 "metadata": {
  "kernelspec": {
   "display_name": "base",
   "language": "python",
   "name": "python3"
  },
  "language_info": {
   "codemirror_mode": {
    "name": "ipython",
    "version": 3
   },
   "file_extension": ".py",
   "mimetype": "text/x-python",
   "name": "python",
   "nbconvert_exporter": "python",
   "pygments_lexer": "ipython3",
   "version": "3.9.7"
  }
 },
 "nbformat": 4,
 "nbformat_minor": 2
}
