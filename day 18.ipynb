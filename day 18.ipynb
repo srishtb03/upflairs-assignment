{
 "cells": [
  {
   "cell_type": "markdown",
   "metadata": {},
   "source": [
    "# day 18"
   ]
  },
  {
   "cell_type": "markdown",
   "metadata": {},
   "source": [
    "### 1. Write a Python function called merge_lists that takes two lists as input and returns a new list containing all elements from both input lists, with duplicates removed."
   ]
  },
  {
   "cell_type": "code",
   "execution_count": 1,
   "metadata": {},
   "outputs": [
    {
     "name": "stdout",
     "output_type": "stream",
     "text": [
      "[1, 2, 3, 4, 5, 6, 7]\n"
     ]
    }
   ],
   "source": [
    "def merge_lists(list1, list2):\n",
    "    merged_list = set(list1 + list2)\n",
    "    return list(merged_list)\n",
    "\n",
    "\n",
    "list1 = [1, 2, 3, 4, 2, 1]\n",
    "list2 = [3, 5, 6, 1, 7]\n",
    "merged_list = merge_lists(list1, list2)\n",
    "print(merged_list)"
   ]
  },
  {
   "cell_type": "markdown",
   "metadata": {},
   "source": [
    "### 2. Write a Python function called list_intersection that takes two lists as input and returns a new list containing elements that are common to both input lists."
   ]
  },
  {
   "cell_type": "code",
   "execution_count": 2,
   "metadata": {},
   "outputs": [
    {
     "name": "stdout",
     "output_type": "stream",
     "text": [
      "[1, 3]\n"
     ]
    }
   ],
   "source": [
    "def list_intersection(list1, list2):\n",
    "   set1 = set(list1)\n",
    "   set2 = set(list2)\n",
    "   intersection = set1.intersection(set2)\n",
    "   return list(intersection)\n",
    "\n",
    "\n",
    "list1 = [1, 2, 3, 4, 2, 1]\n",
    "list2 = [3, 5, 6, 1, 7]\n",
    "intersection_list = list_intersection(list1, list2)\n",
    "print(intersection_list)\n"
   ]
  },
  {
   "cell_type": "code",
   "execution_count": null,
   "metadata": {},
   "outputs": [],
   "source": []
  }
 ],
 "metadata": {
  "kernelspec": {
   "display_name": "base",
   "language": "python",
   "name": "python3"
  },
  "language_info": {
   "codemirror_mode": {
    "name": "ipython",
    "version": 3
   },
   "file_extension": ".py",
   "mimetype": "text/x-python",
   "name": "python",
   "nbconvert_exporter": "python",
   "pygments_lexer": "ipython3",
   "version": "3.9.7"
  }
 },
 "nbformat": 4,
 "nbformat_minor": 2
}
