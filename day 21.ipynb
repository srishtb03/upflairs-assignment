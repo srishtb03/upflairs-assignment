{
 "cells": [
  {
   "cell_type": "markdown",
   "metadata": {},
   "source": [
    "# day 21"
   ]
  },
  {
   "cell_type": "markdown",
   "metadata": {},
   "source": [
    "### 1. Give a simple coding example on multiple and multilevel inheritance in python"
   ]
  },
  {
   "cell_type": "markdown",
   "metadata": {},
   "source": [
    "#### multiple "
   ]
  },
  {
   "cell_type": "code",
   "execution_count": 6,
   "metadata": {},
   "outputs": [
    {
     "name": "stdout",
     "output_type": "stream",
     "text": [
      "i am 1st base class \n",
      "i am 2nd base class \n",
      "i can inherit property of both class\n"
     ]
    }
   ],
   "source": [
    "class base1:\n",
    "    def __init__(self) :\n",
    "        print(\"i am 1st base class \")\n",
    "class base2:\n",
    "    def second(self) :\n",
    "        print(\"i am 2nd base class \")       \n",
    "class child(base1,base2):\n",
    "    def func(self):\n",
    "        print(\"i can inherit property of both class\")\n",
    "obj=child() #object of derived class can call both base class function\n",
    "obj.second()\n",
    "obj.func()"
   ]
  },
  {
   "cell_type": "markdown",
   "metadata": {},
   "source": [
    "#### multilevel"
   ]
  },
  {
   "cell_type": "code",
   "execution_count": 16,
   "metadata": {},
   "outputs": [
    {
     "name": "stdout",
     "output_type": "stream",
     "text": [
      "Brand: Tesla, Model: Model S, Battery Range: 628 km\n"
     ]
    }
   ],
   "source": [
    "class Vehicle:\n",
    "  def __init__(self, brand):\n",
    "    self.brand = brand\n",
    "\n",
    "class Car(Vehicle):\n",
    "  def __init__(self, brand, model):\n",
    "    super().__init__(brand)  # Call parent class constructor (Vehicle)\n",
    "    self.model = model\n",
    "\n",
    "class ElectricCar(Car):\n",
    "  def __init__(self, brand, model, battery_range):\n",
    "    super().__init__(brand, model)  # Call parent class constructor (Car)\n",
    "    self.battery_range = battery_range\n",
    "\n",
    "  def display_info(self):\n",
    "    print(f\"Brand: {self.brand}, Model: {self.model}, Battery Range: {self.battery_range} km\")\n",
    "\n",
    "# Create an ElectricCar object\n",
    "tesla = ElectricCar(\"Tesla\", \"Model S\", 628)\n",
    "\n",
    "# Call the single function (display_info) to access data from all levels\n",
    "tesla.display_info()  # Output: Brand: Tesla, Model: Model S, Battery Range: 628 km\n"
   ]
  },
  {
   "cell_type": "markdown",
   "metadata": {},
   "source": [
    "### 2. Write a function of python that takes the confusion matrix output as an input, and return the precision and recall score."
   ]
  },
  {
   "cell_type": "code",
   "execution_count": null,
   "metadata": {},
   "outputs": [],
   "source": []
  }
 ],
 "metadata": {
  "kernelspec": {
   "display_name": "base",
   "language": "python",
   "name": "python3"
  },
  "language_info": {
   "codemirror_mode": {
    "name": "ipython",
    "version": 3
   },
   "file_extension": ".py",
   "mimetype": "text/x-python",
   "name": "python",
   "nbconvert_exporter": "python",
   "pygments_lexer": "ipython3",
   "version": "3.9.7"
  }
 },
 "nbformat": 4,
 "nbformat_minor": 2
}
