{
 "cells": [
  {
   "cell_type": "markdown",
   "metadata": {},
   "source": [
    "# day 9"
   ]
  },
  {
   "cell_type": "markdown",
   "metadata": {},
   "source": [
    "#### 1. Write a Python method in Oop called “calculate_area” that takes the radius of a circle as input and returns the area of the circle, write program using Oop."
   ]
  },
  {
   "cell_type": "code",
   "execution_count": 4,
   "metadata": {},
   "outputs": [
    {
     "name": "stdout",
     "output_type": "stream",
     "text": [
      "314.0\n"
     ]
    }
   ],
   "source": [
    "class Calculate_area:\n",
    "    def __init__(self):\n",
    "        r = int(input(\"enter the radius\"))\n",
    "        print(3.14*(r**2)) \n",
    "\n",
    "ca=Calculate_area()"
   ]
  },
  {
   "cell_type": "markdown",
   "metadata": {},
   "source": [
    "#### 2. Write a Python method in Oop called “calculate_discount” that calculates the final price of an item after applying a discount percentage. The function should take the original price and the discount percentage as inputs."
   ]
  },
  {
   "cell_type": "code",
   "execution_count": 10,
   "metadata": {},
   "outputs": [
    {
     "name": "stdout",
     "output_type": "stream",
     "text": [
      "45.0\n"
     ]
    }
   ],
   "source": [
    "class Calculate_discount:\n",
    "    def __init__(self):\n",
    "        price = int(input(\"enter the final price of the product\"))\n",
    "        discount = int(input(\"enter the percentage of discount\"))\n",
    "        a = price*discount/100\n",
    "        b=price-a\n",
    "        print(b)\n",
    "ca=Calculate_discount()"
   ]
  },
  {
   "cell_type": "markdown",
   "metadata": {},
   "source": [
    "#### 3. Write a method in Oop named “count_vowels” that takes a string as input and returns the count of vowels (both uppercase and lowercase) in the string."
   ]
  },
  {
   "cell_type": "code",
   "execution_count": 25,
   "metadata": {},
   "outputs": [
    {
     "name": "stdout",
     "output_type": "stream",
     "text": [
      "5\n"
     ]
    }
   ],
   "source": [
    "class Count_vowels:\n",
    "    def __init__(self):\n",
    "        str = input(\"enter the string\")\n",
    "        count=0\n",
    "        for i in str:\n",
    "            if i in 'aeiouAEIOU':\n",
    "                count+=1\n",
    "            \n",
    "        if count==0:\n",
    "                print(\"no vowel found\")\n",
    "     \n",
    "        print(count)\n",
    "ca=Count_vowels()"
   ]
  }
 ],
 "metadata": {
  "kernelspec": {
   "display_name": "base",
   "language": "python",
   "name": "python3"
  },
  "language_info": {
   "codemirror_mode": {
    "name": "ipython",
    "version": 3
   },
   "file_extension": ".py",
   "mimetype": "text/x-python",
   "name": "python",
   "nbconvert_exporter": "python",
   "pygments_lexer": "ipython3",
   "version": "3.9.7"
  }
 },
 "nbformat": 4,
 "nbformat_minor": 2
}
